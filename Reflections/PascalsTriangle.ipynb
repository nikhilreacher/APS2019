## Pascal's Triangle

####  Recursive algorithm
> This algorithm can be used when the value of n is large.

> Time complexity - O(2^n).


####  DP with 2D array
> May consume lot of memory but is efficient when it has    large n.

> Time and space depend on the value of n * k


#### DP with 1D array
> Depends on the value of k.

> Can be used for constant value of n.

> Time complexity - O(n * k)
