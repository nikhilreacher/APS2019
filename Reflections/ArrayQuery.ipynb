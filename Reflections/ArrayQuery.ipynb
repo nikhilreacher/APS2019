### Array Query Problem

#### Look-up table:
* Key-value approach, keeps track of min. element in the array.
* Can be applied when value of 'n'(array length) is not constant.
* Fetching time O(1), processing time O(n<sup>2</sup>)

#### SquareRoot Decomposition
* Array is decomposed into smaller subArrays blocks of length n<sup>1/2</sup>.
* Can only be applied to the complete block(length=n<sup>1/2</sup>).
* O(n<sup>1/2</sup>) operations to find min. or max.

#### Segment Tree
* Strictly binary tree, uses bottom up approach in the tree construction.
* When array value changes but not the value of 'n' this method can be used.
* O(log(n)) number of comparisons.
