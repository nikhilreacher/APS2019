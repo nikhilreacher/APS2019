{
 "cells": [
  {
   "cell_type": "markdown",
   "metadata": {},
   "source": [
    "### Array Query Problem\n",
    "\n",
    "#### Look-up table:\n",
    "* Key-value approach, keeps track of min. element in the array.\n",
    "* Can be applied when value of 'n'(array length) is not constant.\n",
    "* Fetching time O(1), processing time O(n<sup>2</sup>)\n",
    "\n",
    "#### SquareRoot Decomposition\n",
    "* Array is decomposed into smaller subArrays blocks of length n<sup>1/2</sup>.\n",
    "* Can only be applied to the complete block(length=n<sup>1/2</sup>).\n",
    "* O(n<sup>1/2</sup>) operations to find min. or max.\n",
    "\n",
    "#### Segment Tree\n",
    "* Strictly binary tree, uses bottom up approach in the tree construction.\n",
    "* When array value changes but not the value of 'n' this method can be used.\n",
    "* O(log(n)) number of comparisons."
   ]
  }
 ],
 "metadata": {
  "kernelspec": {
   "display_name": "Python 3",
   "language": "python",
   "name": "python3"
  },
  "language_info": {
   "codemirror_mode": {
    "name": "ipython",
    "version": 3
   },
   "file_extension": ".py",
   "mimetype": "text/x-python",
   "name": "python",
   "nbconvert_exporter": "python",
   "pygments_lexer": "ipython3",
   "version": "3.6.8"
  }
 },
 "nbformat": 4,
 "nbformat_minor": 2
}
